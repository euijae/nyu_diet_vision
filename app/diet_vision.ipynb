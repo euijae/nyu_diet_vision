{
 "cells": [
  {
   "cell_type": "markdown",
   "metadata": {},
   "source": []
  },
  {
   "cell_type": "markdown",
   "metadata": {},
   "source": [
    "# Instantiate `DietVision` class"
   ]
  },
  {
   "cell_type": "code",
   "execution_count": 63,
   "metadata": {},
   "outputs": [
    {
     "name": "stdout",
     "output_type": "stream",
     "text": [
      "The autoreload extension is already loaded. To reload it, use:\n",
      "  %reload_ext autoreload\n"
     ]
    }
   ],
   "source": [
    "%load_ext autoreload\n",
    "%autoreload 2"
   ]
  },
  {
   "cell_type": "code",
   "execution_count": 64,
   "metadata": {},
   "outputs": [],
   "source": [
    "%reload_ext autoreload\n",
    "\n",
    "from diet_vision import DietVision\n",
    "dv_instance = DietVision()"
   ]
  },
  {
   "cell_type": "code",
   "execution_count": 65,
   "metadata": {},
   "outputs": [
    {
     "name": "stdout",
     "output_type": "stream",
     "text": [
      "0 = [0]\n",
      "1 = [1]\n",
      "2 = [2]\n",
      "3 = [3]\n",
      "4 = [4]\n",
      "5 = [5]\n",
      "6 = [6]\n",
      "7 = [7]\n",
      "8 = [8]\n",
      "9 = [9]\n",
      "10 = [10]\n",
      "11 = [11]\n",
      "12 = [12]\n",
      "13 = [13]\n",
      "14 = [14]\n",
      "15 = [15]\n",
      "16 = [16]\n",
      "17 = [17]\n",
      "18 = [18]\n",
      "19 = [19]\n",
      "20 = [20]\n",
      "21 = [21]\n",
      "22 = [22]\n",
      "23 = [23]\n",
      "24 = [24]\n",
      "25 = [25]\n",
      "26 = [26]\n",
      "27 = [27]\n",
      "28 = [28]\n",
      "29 = [29]\n",
      "30 = [30]\n",
      "31 = [31]\n",
      "32 = [32]\n",
      "33 = [33]\n",
      "34 = [34]\n",
      "35 = [35]\n",
      "36 = [36]\n",
      "37 = [37]\n",
      "38 = [38]\n",
      "39 = [39]\n",
      "40 = [40]\n",
      "41 = [41]\n",
      "42 = [42]\n",
      "43 = [43]\n",
      "44 = [44]\n",
      "45 = [45]\n",
      "46 = [46]\n",
      "47 = [47]\n"
     ]
    },
    {
     "data": {
      "text/plain": [
       "'/Users/EKim45/Projects/academic/nyu_diet_vision_week11_2/static/images/annotator_image_1691111129.png'"
      ]
     },
     "execution_count": 65,
     "metadata": {},
     "output_type": "execute_result"
    }
   ],
   "source": [
    "dv_instance.upload_image('pasta.jpg')"
   ]
  },
  {
   "cell_type": "code",
   "execution_count": 21,
   "metadata": {},
   "outputs": [],
   "source": [
    "import requests\n",
    "import json\n",
    "\n",
    "items = range(0, 42)\n",
    "response = []\n",
    "for item in items:\n",
    "    url = f'https://api.nal.usda.gov/fdc/v1/foods/list?dataType=Foundation,SR%20Legacy&pageSize=200&pageNumber={item}&api_key=ljOu2YIUetK44MUIP1iW7PJzRGo7jdSTTJyzHA0k'\n",
    "    res1 = requests.get(url)\n",
    "    res2 = json.loads(res1.text) # list length 200\n",
    "    \n",
    "    for food in res2:\n",
    "        response.append(food['description'])\n",
    "\n",
    "food_dictionary = { 'foods': response }\n",
    "len(food_dictionary['foods'])\n",
    "\n",
    "# Serializing json\n",
    "json_object = json.dumps(food_dictionary, indent=4)\n",
    " \n",
    "# Writing to sample.json\n",
    "with open('../static/js/usdaFoods.js', \"w\") as outfile:\n",
    "    outfile.write(json_object)"
   ]
  },
  {
   "cell_type": "code",
   "execution_count": 66,
   "metadata": {},
   "outputs": [],
   "source": [
    "from PIL import Image\n",
    "\n",
    "for idx, dvd in enumerate(dv_instance.raw_diet_vision_dictionary):\n",
    "    data = Image.fromarray(dvd['mask'])\n",
    "    data.save(f'raw_mask_{idx}.png')\n",
    "\n"
   ]
  },
  {
   "cell_type": "code",
   "execution_count": 69,
   "metadata": {},
   "outputs": [],
   "source": [
    "raw_combined_mask = dv_instance._combine_masks_init(list(range(0, 81)))\n",
    "data = Image.fromarray(raw_combined_mask)\n",
    "data.save('raw_all_mask.png')"
   ]
  },
  {
   "cell_type": "code",
   "execution_count": 70,
   "metadata": {},
   "outputs": [],
   "source": [
    "combined_mask = dv_instance._combine_masks(list(range(0, len(dv_instance.diet_vision_dictionary))))\n",
    "data = Image.fromarray(raw_combined_mask)\n",
    "data.save('all_mask.png')"
   ]
  }
 ],
 "metadata": {
  "kernelspec": {
   "display_name": "Python 3",
   "language": "python",
   "name": "python3"
  },
  "language_info": {
   "codemirror_mode": {
    "name": "ipython",
    "version": 3
   },
   "file_extension": ".py",
   "mimetype": "text/x-python",
   "name": "python",
   "nbconvert_exporter": "python",
   "pygments_lexer": "ipython3",
   "version": "3.10.12"
  },
  "orig_nbformat": 4
 },
 "nbformat": 4,
 "nbformat_minor": 2
}
