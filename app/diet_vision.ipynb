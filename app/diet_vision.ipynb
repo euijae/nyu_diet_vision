{
 "cells": [
  {
   "cell_type": "markdown",
   "metadata": {},
   "source": [
    "# Instantiate `DietVision` class"
   ]
  },
  {
   "cell_type": "code",
   "execution_count": 12,
   "metadata": {},
   "outputs": [
    {
     "name": "stdout",
     "output_type": "stream",
     "text": [
      "The autoreload extension is already loaded. To reload it, use:\n",
      "  %reload_ext autoreload\n"
     ]
    }
   ],
   "source": [
    "%load_ext autoreload\n",
    "%autoreload 2"
   ]
  },
  {
   "cell_type": "code",
   "execution_count": 13,
   "metadata": {},
   "outputs": [],
   "source": [
    "%reload_ext autoreload\n",
    "\n",
    "from diet_vision import DietVision\n",
    "dv_instance = DietVision()"
   ]
  },
  {
   "cell_type": "code",
   "execution_count": 14,
   "metadata": {},
   "outputs": [
    {
     "name": "stderr",
     "output_type": "stream",
     "text": [
      "Found cached dataset food101 (/Users/EKim45/.cache/huggingface/datasets/food101/default/0.0.0/7cebe41a80fb2da3f08fcbef769c8874073a86346f7fb96dc0847d4dfc318295)\n"
     ]
    },
    {
     "data": {
      "application/vnd.jupyter.widget-view+json": {
       "model_id": "6dea0845397a4852a5f6f069b89bfc0f",
       "version_major": 2,
       "version_minor": 0
      },
      "text/plain": [
       "  0%|          | 0/2 [00:00<?, ?it/s]"
      ]
     },
     "metadata": {},
     "output_type": "display_data"
    }
   ],
   "source": [
    "dv_instance.upload_image()"
   ]
  },
  {
   "cell_type": "code",
   "execution_count": 15,
   "metadata": {},
   "outputs": [
    {
     "data": {
      "text/plain": [
       "10"
      ]
     },
     "execution_count": 15,
     "metadata": {},
     "output_type": "execute_result"
    }
   ],
   "source": [
    "dv_instance.diet_vision_dictionary[10]['attached_to']"
   ]
  },
  {
   "cell_type": "code",
   "execution_count": 16,
   "metadata": {},
   "outputs": [
    {
     "name": "stdout",
     "output_type": "stream",
     "text": [
      "zsh:1: parse error near `-m'\n"
     ]
    }
   ],
   "source": [
    "!{sys.executable} -m pip install -q requests"
   ]
  },
  {
   "cell_type": "code",
   "execution_count": 36,
   "metadata": {},
   "outputs": [
    {
     "data": {
      "text/plain": [
       "{'food_name': 'French Fries',\n",
       " 'calories': 210,\n",
       " 'serving_size': 1,\n",
       " 'serving_unit': 'serving'}"
      ]
     },
     "execution_count": 36,
     "metadata": {},
     "output_type": "execute_result"
    }
   ],
   "source": [
    "import requests\n",
    "import json\n",
    "\n",
    "def get_nutrition_info(food_name):\n",
    "    food_name = food_name.replace('_', ' ')\n",
    "\n",
    "    #Make request to Nutritionix API\n",
    "    response = requests.get(\n",
    "        \"https://trackapi.nutritionix.com/v2/search/instant\",\n",
    "        params={\"query\": food_name},\n",
    "        headers={\n",
    "            \"x-app-id\": \"a3663db3\",\n",
    "            \"x-app-key\": \"06eee2ab6e395eb02e4500d70f0fcdee\"\n",
    "        }\n",
    "    )\n",
    "    #Parse response and return relevant information\n",
    "    data = response.json()\n",
    "    response = data[\"branded\"][0][\"photo\"][\"thumb\"]\n",
    "    return {\n",
    "        \"food_name\": data[\"branded\"][0][\"food_name\"],\n",
    "        \"calories\": data[\"branded\"][0][\"nf_calories\"],\n",
    "        \"serving_size\": data[\"branded\"][0][\"serving_qty\"],\n",
    "        \"serving_unit\": data[\"branded\"][0][\"serving_unit\"]\n",
    "    }\n",
    "\n",
    "get_nutrition_info('french fries')"
   ]
  },
  {
   "cell_type": "code",
   "execution_count": 3,
   "metadata": {},
   "outputs": [
    {
     "name": "stderr",
     "output_type": "stream",
     "text": [
      "rm: ../static/images/overlay_image_1690519324: No such file or directory\n",
      "rm: copy: No such file or directory\n",
      "rm: 2.png: No such file or directory\n",
      "rm: ../static/images/overlay_image_1690519324: No such file or directory\n",
      "rm: copy.png: No such file or directory\n"
     ]
    }
   ],
   "source": [
    "import glob, os\n",
    "\n",
    "images = glob.glob('../static/images/overlay_image*.png')\n",
    "\n",
    "for image in images:\n",
    "    os.system(f'rm {image}')"
   ]
  }
 ],
 "metadata": {
  "kernelspec": {
   "display_name": "Python 3",
   "language": "python",
   "name": "python3"
  },
  "language_info": {
   "codemirror_mode": {
    "name": "ipython",
    "version": 3
   },
   "file_extension": ".py",
   "mimetype": "text/x-python",
   "name": "python",
   "nbconvert_exporter": "python",
   "pygments_lexer": "ipython3",
   "version": "3.10.12"
  },
  "orig_nbformat": 4
 },
 "nbformat": 4,
 "nbformat_minor": 2
}
