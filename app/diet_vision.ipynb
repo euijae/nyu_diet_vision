{
 "cells": [
  {
   "cell_type": "markdown",
   "metadata": {},
   "source": []
  },
  {
   "cell_type": "markdown",
   "metadata": {},
   "source": [
    "# Instantiate `DietVision` class"
   ]
  },
  {
   "cell_type": "code",
   "execution_count": 12,
   "metadata": {},
   "outputs": [
    {
     "name": "stdout",
     "output_type": "stream",
     "text": [
      "The autoreload extension is already loaded. To reload it, use:\n",
      "  %reload_ext autoreload\n"
     ]
    }
   ],
   "source": [
    "%load_ext autoreload\n",
    "%autoreload 2"
   ]
  },
  {
   "cell_type": "code",
   "execution_count": 13,
   "metadata": {},
   "outputs": [],
   "source": [
    "%reload_ext autoreload\n",
    "\n",
    "from diet_vision import DietVision\n",
    "dv_instance = DietVision()"
   ]
  },
  {
   "cell_type": "code",
   "execution_count": 14,
   "metadata": {},
   "outputs": [
    {
     "data": {
      "text/plain": [
       "'/Users/EKim45/Projects/academic/nyu_diet_vision_week11/static/images/annotator_image_1690859073.png'"
      ]
     },
     "execution_count": 14,
     "metadata": {},
     "output_type": "execute_result"
    }
   ],
   "source": [
    "dv_instance.upload_image('fish_chips.jpg')"
   ]
  },
  {
   "cell_type": "code",
   "execution_count": 19,
   "metadata": {},
   "outputs": [
    {
     "data": {
      "text/plain": [
       "1761343"
      ]
     },
     "execution_count": 19,
     "metadata": {},
     "output_type": "execute_result"
    }
   ],
   "source": [
    "dv_instance.diet_vision_dictionary[0]['area']"
   ]
  },
  {
   "cell_type": "code",
   "execution_count": 16,
   "metadata": {},
   "outputs": [
    {
     "name": "stdout",
     "output_type": "stream",
     "text": [
      "993247\n"
     ]
    }
   ],
   "source": [
    "import numpy as np\n",
    "\n",
    "with open('../app/sam_result.npy', 'rb') as f:\n",
    "    sam_result = np.load(f, allow_pickle=True).copy()\n",
    "    print(sam_result[3]['area'])"
   ]
  },
  {
   "cell_type": "code",
   "execution_count": null,
   "metadata": {},
   "outputs": [],
   "source": [
    "import torch\n",
    "from torch.autograd import Variable\n",
    "import torchvision\n",
    "import torch.nn as nn\n",
    "import torch.nn.functional as F\n",
    "from torchvision import datasets, models,transforms\n",
    "import torch.optim as optim\n",
    "from torch.optim import lr_scheduler\n",
    "import numpy as np \n",
    "import os\n",
    "import matplotlib.pyplot as plt \n",
    "from torch.autograd import Function\n",
    "\n",
    "zsize = 128\n",
    "batch_size = 250\n",
    "iterations =  500\n",
    "learningRate=0.0001\n",
    "\n",
    "class Encoder(nn.Module):\n",
    "    def __init__(self):\n",
    "        super(Encoder,self).__init__()\n",
    "        self.conv1 = nn.Conv2d(3, 64, 11, stride = 4, padding = 2)\n",
    "        self.conv2 = nn.Conv2d(64, 192, 5, padding = 2)\n",
    "        self.conv3 = nn.Conv2d(192, 384, 3, padding = 1)\n",
    "        self.conv4 = nn.Conv2d(384, 256, 3, padding = 1)\n",
    "        self.conv5 = nn.Conv2d(256, 256, 3, padding = 1)\n",
    "        self.fc1 = nn.Linear(256 * 6 * 6, 4096)\n",
    "        self.fc2 = nn.Linear(4096, 4096)\n",
    "        self.fc3 = nn.Linear(4096, zsize)\n",
    "\t\n",
    "    def forward(self,x):\n",
    "        x = F.relu(self.conv1(x))\n",
    "        x,indices1 = F.max_pool2d(x,(3,3),(2,2),return_indices = True)\n",
    "        x = F.relu(self.conv2(x))\n",
    "        x,indices2 = F.max_pool2d(x,(3,3),(2,2),return_indices = True)\n",
    "        x = F.relu(self.conv3(x))\n",
    "        x = F.relu(self.conv4(x))\n",
    "        x = F.relu(self.conv5(x))\n",
    "        x,indices3 = F.max_pool2d(x,(3,3),(2,2),return_indices = True)\t\n",
    "        x = x.view(x.size(0), 256 * 6 * 6)\n",
    "        x = F.dropout(x)\n",
    "        x = F.relu(self.fc1(x))\n",
    "        x = F.dropout(x)\n",
    "        x = F.relu(self.fc2(x))\n",
    "        x = self.fc3(x)\n",
    "        return x,indices1,indices2,indices3\n",
    "\n",
    "class Decoder(nn.Module):\n",
    "    def __init__(self):\n",
    "        super(Decoder,self).__init__()\n",
    "        self.dfc3 = nn.Linear(zsize, 4096)\n",
    "        self.bn3 = nn.BatchNorm2d(4096)\n",
    "        self.dfc2 = nn.Linear(4096, 4096)\n",
    "        self.bn2 = nn.BatchNorm2d(4096)\n",
    "        self.dfc1 = nn.Linear(4096,256 * 6 * 6)\n",
    "        self.bn1 = nn.BatchNorm2d(256*6*6)\n",
    "        self.dconv5 = nn.ConvTranspose2d(256, 256, 3, padding = 1)\n",
    "        self.dconv4 = nn.ConvTranspose2d(256, 384, 3, padding = 1)\n",
    "        self.dconv3 = nn.ConvTranspose2d(384, 192, 3, padding = 1)\n",
    "        self.dconv2 = nn.ConvTranspose2d(192, 64, 5, padding = 2)\n",
    "        self.dconv1 = nn.ConvTranspose2d(64, 3, 12, stride = 4, padding = 2)\n",
    "\n",
    "    def forward(self,x,i1,i2,i3):\t\n",
    "        x = self.dfc3(x)\n",
    "        x = F.relu(self.bn3(x))\n",
    "        x = self.dfc2(x)\n",
    "        x = F.relu(self.bn2(x))\n",
    "        x = self.dfc1(x)\n",
    "        x = F.relu(self.bn1(x))\n",
    "        x = x.view(batch_size,256,6,6)\n",
    "        x = self.dconv5(F.max_unpool2d(x,i3,kernel_size =(3,3),stride =(2,2)))\n",
    "        x = F.relu(x)\n",
    "        x = F.relu(self.dconv4(x))\n",
    "        x = F.relu(self.dconv3(x))\n",
    "        x = self.dconv2(F.max_unpool2d(x,i2,kernel_size = (3,3), stride = (2,2)))\n",
    "        x = F.relu(x)\n",
    "        x = self.dconv1(F.max_unpool2d(x,i1,kernel_size = 3 ,stride = 2))\n",
    "        x = F.sigmoid(x)\n",
    "        return x\n",
    "\n",
    "#--------- Pytorch pseudo-code for Structure Generator ---------#\n",
    "class Structure_Generator(nn.Module):\n",
    "    # contains two module in sequence, an encoder and a decoder\n",
    "    def __init__(self):\n",
    "        super().__init__()\n",
    "        self.encoder = Encoder()\n",
    "        self.decoder = Decoder()\n",
    "    def forward(self, RGB_image):\n",
    "        # Encoder takes in one RGB image and \n",
    "        # output an encoded deep shape-embedding\n",
    "        shape_embedding = self.encoder(RGB_image)\n",
    "        \n",
    "        # Decoder takes the encoded values and output  \n",
    "        # multiples 2D projection (XYZ + mask)\n",
    "        XYZ, maskLogit = self.decoder(shape_embedding)\n",
    "        print(XYZ)\n",
    " \n",
    "        return XYZ, maskLogit\n",
    "\n",
    "# --------- Pytorch pseudo-code for training loop ----------#\n",
    "# Create 2D Conv Structure generator\n",
    "model = Structure_Generator()\n",
    "# only need to learn the 2D structure optimizer\n",
    "optimizer = optim.SGD(model.parameters())\n",
    "# 2D projections from predetermined viewpoints\n",
    "XYZ, maskLogit = model('../static/images/chocolate_cake.jpg')\n",
    "# fused point cloud\n",
    "#fuseTrans is predetermined viewpoints info\n",
    "XYZid, ML = fuse3D(XYZ, maskLogit, fuseTrans)\n",
    "# Render new depth images at novel viewpoints\n",
    "# renderTrans is novel viewpoints info\n",
    "newDepth, newMaskLogit, collision = render2D(XYZid, ML, renderTrans)\n",
    "# Compute loss between novel view and ground truth\n",
    "loss_depth = L1Loss()(newDepth, GTDepth)\n",
    "loss_mask = BCEWithLogitLoss()(newMaskLogit, GTMask)\n",
    "loss_total = loss_depth + loss_mask\n",
    "# Back-propagation to update Structure Generator\n",
    "loss_total.backward()\n",
    "optimizer.step()"
   ]
  },
  {
   "cell_type": "code",
   "execution_count": 21,
   "metadata": {},
   "outputs": [],
   "source": [
    "import requests\n",
    "import json\n",
    "\n",
    "items = range(0, 42)\n",
    "response = []\n",
    "for item in items:\n",
    "    url = f'https://api.nal.usda.gov/fdc/v1/foods/list?dataType=Foundation,SR%20Legacy&pageSize=200&pageNumber={item}&api_key=ljOu2YIUetK44MUIP1iW7PJzRGo7jdSTTJyzHA0k'\n",
    "    res1 = requests.get(url)\n",
    "    res2 = json.loads(res1.text) # list length 200\n",
    "    \n",
    "    for food in res2:\n",
    "        response.append(food['description'])"
   ]
  },
  {
   "cell_type": "code",
   "execution_count": 22,
   "metadata": {},
   "outputs": [
    {
     "data": {
      "text/plain": [
       "8229"
      ]
     },
     "execution_count": 22,
     "metadata": {},
     "output_type": "execute_result"
    }
   ],
   "source": [
    "food_dictionary = {\n",
    "    'foods': response\n",
    "}\n",
    "\n",
    "len(food_dictionary['foods'])"
   ]
  },
  {
   "cell_type": "code",
   "execution_count": 23,
   "metadata": {},
   "outputs": [],
   "source": [
    "# Serializing json\n",
    "json_object = json.dumps(food_dictionary, indent=4)\n",
    " \n",
    "# Writing to sample.json\n",
    "with open('../static/js/usdaFoods.js', \"w\") as outfile:\n",
    "    outfile.write(json_object)"
   ]
  },
  {
   "cell_type": "code",
   "execution_count": 18,
   "metadata": {},
   "outputs": [
    {
     "name": "stdout",
     "output_type": "stream",
     "text": [
      "{1}\n"
     ]
    }
   ],
   "source": [
    "import numpy as np\n",
    "mask_dictionary = np.full((10, 10), set())\n",
    "\n",
    "mask_dictionary[0][0].add(1)\n",
    "if not mask_dictionary[0][0]:\n",
    "    print('not empty')\n",
    "\n",
    "print(mask_dictionary[0][0])"
   ]
  },
  {
   "cell_type": "code",
   "execution_count": 17,
   "metadata": {},
   "outputs": [
    {
     "data": {
      "text/plain": [
       "{1, 2, 5, 6, 7, 61}"
      ]
     },
     "execution_count": 17,
     "metadata": {},
     "output_type": "execute_result"
    }
   ],
   "source": [
    "s1 = set([1, 2, 5, 61])\n",
    "s2 = set([5, 6, 7])\n",
    "\n",
    "s1 = s1 | s2\n",
    "s1"
   ]
  },
  {
   "cell_type": "code",
   "execution_count": 25,
   "metadata": {},
   "outputs": [
    {
     "name": "stdout",
     "output_type": "stream",
     "text": [
      "{1, 2, 3}\n"
     ]
    }
   ],
   "source": [
    "set1 = set()\n",
    "set2 = {1, 2, 3}\n",
    "\n",
    "set1.update(set2)\n",
    "print(set1)"
   ]
  }
 ],
 "metadata": {
  "kernelspec": {
   "display_name": "Python 3",
   "language": "python",
   "name": "python3"
  },
  "language_info": {
   "codemirror_mode": {
    "name": "ipython",
    "version": 3
   },
   "file_extension": ".py",
   "mimetype": "text/x-python",
   "name": "python",
   "nbconvert_exporter": "python",
   "pygments_lexer": "ipython3",
   "version": "3.10.12"
  },
  "orig_nbformat": 4
 },
 "nbformat": 4,
 "nbformat_minor": 2
}
