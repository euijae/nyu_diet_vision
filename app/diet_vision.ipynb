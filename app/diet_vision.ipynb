{
 "cells": [
  {
   "cell_type": "markdown",
   "metadata": {},
   "source": []
  },
  {
   "cell_type": "markdown",
   "metadata": {},
   "source": [
    "# Instantiate `DietVision` class"
   ]
  },
  {
   "cell_type": "code",
   "execution_count": 1,
   "metadata": {},
   "outputs": [],
   "source": [
    "%load_ext autoreload\n",
    "%autoreload 2"
   ]
  },
  {
   "cell_type": "code",
   "execution_count": 2,
   "metadata": {},
   "outputs": [],
   "source": [
    "%reload_ext autoreload\n",
    "\n",
    "from diet_vision import DietVision\n",
    "dv_instance = DietVision()"
   ]
  },
  {
   "cell_type": "code",
   "execution_count": 3,
   "metadata": {},
   "outputs": [
    {
     "name": "stdout",
     "output_type": "stream",
     "text": [
      "0 = [0]\n",
      "1 = [1]\n",
      "2 = [2]\n",
      "3 = [3]\n",
      "4 = [4]\n",
      "5 = [5]\n",
      "6 = [6]\n",
      "7 = [7]\n",
      "8 = [8]\n",
      "9 = [9]\n",
      "10 = [10]\n",
      "11 = [11]\n",
      "12 = [12]\n",
      "13 = [13]\n",
      "14 = [14]\n",
      "15 = [15]\n",
      "16 = [16]\n",
      "17 = [17]\n",
      "18 = [18]\n",
      "19 = [19]\n",
      "20 = [20]\n",
      "21 = [21]\n",
      "22 = [22]\n",
      "23 = [23]\n",
      "24 = [24]\n",
      "25 = [25]\n",
      "26 = [26]\n",
      "27 = [27]\n",
      "28 = [28]\n",
      "29 = [29]\n",
      "30 = [30]\n",
      "31 = [31]\n",
      "32 = [32]\n",
      "33 = [33]\n",
      "34 = [34]\n",
      "35 = [35]\n",
      "36 = [36]\n",
      "37 = [37]\n",
      "38 = [38]\n",
      "39 = [39]\n",
      "40 = [40]\n",
      "41 = [41]\n",
      "42 = [42]\n",
      "43 = [43]\n",
      "44 = [44]\n",
      "45 = [45]\n",
      "46 = [46]\n",
      "47 = [47]\n",
      "48 = [48]\n",
      "49 = [49]\n",
      "50 = [50]\n",
      "51 = [51]\n",
      "52 = [52]\n",
      "53 = [53]\n",
      "54 = [54]\n",
      "55 = [55]\n",
      "56 = [56]\n",
      "57 = [57]\n",
      "58 = [58]\n",
      "59 = [59]\n",
      "60 = [60]\n",
      "61 = [61]\n",
      "62 = [62]\n",
      "63 = [63]\n",
      "64 = [64]\n",
      "65 = [65]\n",
      "66 = [66]\n",
      "67 = [67]\n",
      "68 = [68]\n",
      "69 = [69]\n",
      "70 = [70]\n",
      "71 = [71]\n",
      "72 = [72]\n",
      "73 = [73]\n",
      "74 = [74]\n",
      "75 = [75]\n",
      "76 = [76]\n",
      "77 = [77]\n",
      "78 = [78]\n",
      "79 = [79]\n",
      "80 = [80]\n",
      "81 = [81]\n",
      "82 = [82]\n",
      "83 = [83]\n",
      "84 = [84]\n",
      "85 = [85]\n",
      "86 = [86]\n"
     ]
    },
    {
     "data": {
      "text/plain": [
       "'/Users/euijaekim/Projects/nyu_diet_vision/static/images/overlays/annotator_image_1691440728.png'"
      ]
     },
     "execution_count": 3,
     "metadata": {},
     "output_type": "execute_result"
    }
   ],
   "source": [
    "dv_instance.upload_image('fish_chips.jpg')"
   ]
  },
  {
   "cell_type": "code",
   "execution_count": 4,
   "metadata": {},
   "outputs": [],
   "source": [
    "import numpy as np\n",
    "np.save('./sam_result.npy', dv_instance.sam_result)"
   ]
  },
  {
   "cell_type": "code",
   "execution_count": 5,
   "metadata": {},
   "outputs": [
    {
     "data": {
      "text/plain": [
       "dict_keys(['segmentation', 'area', 'bbox', 'predicted_iou', 'point_coords', 'stability_score', 'crop_box'])"
      ]
     },
     "execution_count": 5,
     "metadata": {},
     "output_type": "execute_result"
    }
   ],
   "source": [
    "npy = np.load('./sam_result.npy', allow_pickle=True)\n",
    "npy[0].keys()"
   ]
  },
  {
   "cell_type": "code",
   "execution_count": 7,
   "metadata": {},
   "outputs": [
    {
     "data": {
      "text/plain": [
       "[]"
      ]
     },
     "execution_count": 7,
     "metadata": {},
     "output_type": "execute_result"
    }
   ],
   "source": [
    "dv_instance.get_all_food_data()"
   ]
  },
  {
   "cell_type": "code",
   "execution_count": null,
   "metadata": {},
   "outputs": [],
   "source": [
    "dv_instance.find_mask_index_list([1170, 991, 1666, 1073])\n",
    "# [0, 8, 32, 42, 45, 69, 72, 74]"
   ]
  },
  {
   "cell_type": "code",
   "execution_count": null,
   "metadata": {},
   "outputs": [],
   "source": [
    "for idx, dvd in enumerate(dv_instance.diet_vision_dictionary):\n",
    "    data = Image.fromarray(dvd['mask'])\n",
    "    data.save(f'mask_1_fish_chips_{idx}.png')"
   ]
  },
  {
   "cell_type": "code",
   "execution_count": null,
   "metadata": {},
   "outputs": [],
   "source": [
    "import requests\n",
    "import json\n",
    "\n",
    "items = range(0, 42)\n",
    "response = []\n",
    "for item in items:\n",
    "    url = f'https://api.nal.usda.gov/fdc/v1/foods/list?dataType=Foundation,SR%20Legacy&pageSize=200&pageNumber={item}&api_key=ljOu2YIUetK44MUIP1iW7PJzRGo7jdSTTJyzHA0k'\n",
    "    res1 = requests.get(url)\n",
    "    res2 = json.loads(res1.text) # list length 200\n",
    "    \n",
    "    for food in res2:\n",
    "        response.append(food['description'])\n",
    "\n",
    "food_dictionary = { 'foods': response }\n",
    "len(food_dictionary['foods'])\n",
    "\n",
    "# Serializing json\n",
    "json_object = json.dumps(food_dictionary, indent=4)\n",
    " \n",
    "# Writing to sample.json\n",
    "with open('../static/js/usdaFoods.js', \"w\") as outfile:\n",
    "    outfile.write(json_object)"
   ]
  },
  {
   "cell_type": "code",
   "execution_count": null,
   "metadata": {},
   "outputs": [],
   "source": [
    "combined_mask2 = dv_instance.diet_vision_dictionary[0]['mask'].copy()\n",
    "\n",
    "for idx in range(1, len(dv_instance.diet_vision_dictionary)):\n",
    "    curr_mask = dv_instance.diet_vision_dictionary[idx]['mask'].copy()\n",
    "    combined_mask2 = np.logical_or(combined_mask2, curr_mask)"
   ]
  },
  {
   "cell_type": "code",
   "execution_count": null,
   "metadata": {},
   "outputs": [],
   "source": [
    "data = Image.fromarray(combined_mask2)\n",
    "data.save('combined_mask2.png')"
   ]
  },
  {
   "cell_type": "code",
   "execution_count": null,
   "metadata": {},
   "outputs": [],
   "source": [
    "combined_mask3 = dv_instance.raw_diet_vision_dictionary[0]['mask'].copy()\n",
    "\n",
    "for idx in range(1, len(dv_instance.raw_diet_vision_dictionary)):\n",
    "    curr_mask = dv_instance.raw_diet_vision_dictionary[idx]['mask'].copy()\n",
    "    combined_mask3 = np.logical_or(combined_mask3, curr_mask)\n",
    "\n",
    "data = Image.fromarray(combined_mask3)\n",
    "data.save('combined_mask3.png')"
   ]
  },
  {
   "cell_type": "code",
   "execution_count": null,
   "metadata": {},
   "outputs": [],
   "source": [
    "for idx in range(1, len(dv_instance.raw_diet_vision_dictionary)):\n",
    "    nonzero_at = dv_instance.raw_diet_vision_dictionary[idx]['nonzero_at']\n",
    "\n",
    "    if (1355, 967) in nonzero_at:\n",
    "        print(f'idx = {idx}')"
   ]
  },
  {
   "cell_type": "code",
   "execution_count": null,
   "metadata": {},
   "outputs": [],
   "source": [
    "import numpy as np\n",
    "\n",
    "raw_diet_vision_dictionary = [{\n",
    "    'mask': mask['segmentation'],\n",
    "    'area': mask['area'],\n",
    "    'class': None,\n",
    "    'attached_to': idx,\n",
    "    'nonzero_at': set(np.rec.fromarrays(np.nonzero(mask['segmentation'])).tolist())\n",
    "} for idx, mask in enumerate(sorted(dv_instance.sam_result, key=lambda x: x['area'], reverse=False))]\n",
    "\n",
    "height, width = raw_diet_vision_dictionary[0]['mask'].shape\n",
    "\n",
    "mask_dictionary = np.full((height, width), -1)\n",
    "\n",
    "for idx, curr_dvd in enumerate(raw_diet_vision_dictionary):\n",
    "    for pixel in curr_dvd['nonzero_at']:\n",
    "        mask_dictionary[pixel] = idx\n",
    "\n",
    "        # curr_dvd['attached_to'] = self.mask_dictionary[pixel]"
   ]
  },
  {
   "cell_type": "code",
   "execution_count": null,
   "metadata": {},
   "outputs": [],
   "source": [
    "import itertools as it\n",
    "import numpy as np\n",
    "\n",
    "masks = []\n",
    "for idx in range(0, len(raw_diet_vision_dictionary)):\n",
    "    mask = np.full((height, width), False)\n",
    "\n",
    "    tups = np.where(mask_dictionary == idx)\n",
    "\n",
    "    if tups[0].size > 0 and tups[0].size == tups[1].size:\n",
    "        for row, col in it.zip_longest(tups[0], tups[1]):\n",
    "            mask[row, col] = True\n",
    "\n",
    "        masks.append(mask)"
   ]
  },
  {
   "cell_type": "code",
   "execution_count": null,
   "metadata": {},
   "outputs": [],
   "source": [
    "from PIL import Image\n",
    "\n",
    "for idx in range(0, len(masks)):\n",
    "    data = Image.fromarray(masks[idx])\n",
    "    data.save(f'4_my_mask_{idx}.png')\n",
    "\n",
    "combined_mask = masks[0]\n",
    "\n",
    "for item in masks[1:]:\n",
    "    curr_mask = item.copy()\n",
    "    combined_mask = np.logical_or(combined_mask, curr_mask)\n",
    "\n",
    "data = Image.fromarray(combined_mask)\n",
    "data.save('4_combined_mask.png')"
   ]
  },
  {
   "cell_type": "code",
   "execution_count": null,
   "metadata": {},
   "outputs": [],
   "source": [
    "data = Image.fromarray(np.logical_or(masks[58], masks[61]))\n",
    "data.save('test.png')"
   ]
  },
  {
   "cell_type": "code",
   "execution_count": null,
   "metadata": {},
   "outputs": [],
   "source": [
    "import glob\n",
    "import os\n",
    "\n",
    "if not os.path.exists('../static/images/overlays/'):\n",
    "    os.mkdir('../static/images/overlays/')\n",
    "else :\n",
    "    for file in glob.glob('../static/images/overlays/**.txt'):\n",
    "        os.remove(file)"
   ]
  },
  {
   "cell_type": "code",
   "execution_count": null,
   "metadata": {},
   "outputs": [],
   "source": [
    "aset = set([])\n",
    "aset.add((1, 1))\n",
    "aset.add((2, 2))\n",
    "tuple(zip(*aset))\n",
    "\n",
    "os.path.join('../app/', 'b', 'c')"
   ]
  }
 ],
 "metadata": {
  "kernelspec": {
   "display_name": "Python 3",
   "language": "python",
   "name": "python3"
  },
  "language_info": {
   "codemirror_mode": {
    "name": "ipython",
    "version": 3
   },
   "file_extension": ".py",
   "mimetype": "text/x-python",
   "name": "python",
   "nbconvert_exporter": "python",
   "pygments_lexer": "ipython3",
   "version": "3.8.3"
  },
  "orig_nbformat": 4
 },
 "nbformat": 4,
 "nbformat_minor": 2
}
