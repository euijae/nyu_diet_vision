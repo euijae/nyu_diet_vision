{
 "cells": [
  {
   "cell_type": "markdown",
   "metadata": {},
   "source": []
  },
  {
   "cell_type": "markdown",
   "metadata": {},
   "source": [
    "# Instantiate `DietVision` class"
   ]
  },
  {
   "cell_type": "code",
   "execution_count": 2,
   "metadata": {},
   "outputs": [
    {
     "name": "stdout",
     "output_type": "stream",
     "text": [
      "The autoreload extension is already loaded. To reload it, use:\n",
      "  %reload_ext autoreload\n"
     ]
    }
   ],
   "source": [
    "%load_ext autoreload\n",
    "%autoreload 2"
   ]
  },
  {
   "cell_type": "code",
   "execution_count": 7,
   "metadata": {},
   "outputs": [
    {
     "ename": "ModuleNotFoundError",
     "evalue": "No module named 'cv2'",
     "output_type": "error",
     "traceback": [
      "\u001b[0;31m---------------------------------------------------------------------------\u001b[0m",
      "\u001b[0;31mModuleNotFoundError\u001b[0m                       Traceback (most recent call last)",
      "Cell \u001b[0;32mIn[7], line 3\u001b[0m\n\u001b[1;32m      1\u001b[0m get_ipython()\u001b[39m.\u001b[39mrun_line_magic(\u001b[39m'\u001b[39m\u001b[39mreload_ext\u001b[39m\u001b[39m'\u001b[39m, \u001b[39m'\u001b[39m\u001b[39mautoreload\u001b[39m\u001b[39m'\u001b[39m)\n\u001b[0;32m----> 3\u001b[0m \u001b[39mfrom\u001b[39;00m \u001b[39mdiet_vision\u001b[39;00m \u001b[39mimport\u001b[39;00m DietVision\n\u001b[1;32m      4\u001b[0m dv_instance \u001b[39m=\u001b[39m DietVision()\n",
      "File \u001b[0;32m~/Projects/nyu_diet_vision/app/diet_vision.py:2\u001b[0m\n\u001b[1;32m      1\u001b[0m \u001b[39mimport\u001b[39;00m \u001b[39mcalendar\u001b[39;00m\n\u001b[0;32m----> 2\u001b[0m \u001b[39mimport\u001b[39;00m \u001b[39mcv2\u001b[39;00m\n\u001b[1;32m      3\u001b[0m \u001b[39mimport\u001b[39;00m \u001b[39mdatetime\u001b[39;00m\n\u001b[1;32m      4\u001b[0m \u001b[39mimport\u001b[39;00m \u001b[39mglob\u001b[39;00m\n",
      "\u001b[0;31mModuleNotFoundError\u001b[0m: No module named 'cv2'"
     ]
    }
   ],
   "source": [
    "%reload_ext autoreload\n",
    "\n",
    "from diet_vision import DietVision\n",
    "dv_instance = DietVision()"
   ]
  },
  {
   "cell_type": "code",
   "execution_count": null,
   "metadata": {},
   "outputs": [],
   "source": [
    "dv_instance.upload_image('chocolate_cake.jpg')"
   ]
  },
  {
   "cell_type": "code",
   "execution_count": 4,
   "metadata": {},
   "outputs": [
    {
     "data": {
      "text/plain": [
       "[0, 8, 32, 42, 45, 69, 72, 74]"
      ]
     },
     "execution_count": 4,
     "metadata": {},
     "output_type": "execute_result"
    }
   ],
   "source": [
    "dv_instance.find_mask_index_list([1170, 991, 1666, 1073])\n",
    "# [0, 8, 32, 42, 45, 69, 72, 74]"
   ]
  },
  {
   "cell_type": "code",
   "execution_count": 78,
   "metadata": {},
   "outputs": [],
   "source": [
    "for idx, dvd in enumerate(dv_instance.diet_vision_dictionary):\n",
    "    data = Image.fromarray(dvd['mask'])\n",
    "    data.save(f'mask_1_fish_chips_{idx}.png')"
   ]
  },
  {
   "cell_type": "code",
   "execution_count": 21,
   "metadata": {},
   "outputs": [],
   "source": [
    "import requests\n",
    "import json\n",
    "\n",
    "items = range(0, 42)\n",
    "response = []\n",
    "for item in items:\n",
    "    url = f'https://api.nal.usda.gov/fdc/v1/foods/list?dataType=Foundation,SR%20Legacy&pageSize=200&pageNumber={item}&api_key=ljOu2YIUetK44MUIP1iW7PJzRGo7jdSTTJyzHA0k'\n",
    "    res1 = requests.get(url)\n",
    "    res2 = json.loads(res1.text) # list length 200\n",
    "    \n",
    "    for food in res2:\n",
    "        response.append(food['description'])\n",
    "\n",
    "food_dictionary = { 'foods': response }\n",
    "len(food_dictionary['foods'])\n",
    "\n",
    "# Serializing json\n",
    "json_object = json.dumps(food_dictionary, indent=4)\n",
    " \n",
    "# Writing to sample.json\n",
    "with open('../static/js/usdaFoods.js', \"w\") as outfile:\n",
    "    outfile.write(json_object)"
   ]
  },
  {
   "cell_type": "code",
   "execution_count": 55,
   "metadata": {},
   "outputs": [],
   "source": [
    "combined_mask2 = dv_instance.diet_vision_dictionary[0]['mask'].copy()\n",
    "\n",
    "for idx in range(1, len(dv_instance.diet_vision_dictionary)):\n",
    "    curr_mask = dv_instance.diet_vision_dictionary[idx]['mask'].copy()\n",
    "    combined_mask2 = np.logical_or(combined_mask2, curr_mask)"
   ]
  },
  {
   "cell_type": "code",
   "execution_count": 56,
   "metadata": {},
   "outputs": [],
   "source": [
    "data = Image.fromarray(combined_mask2)\n",
    "data.save('combined_mask2.png')"
   ]
  },
  {
   "cell_type": "code",
   "execution_count": 57,
   "metadata": {},
   "outputs": [],
   "source": [
    "combined_mask3 = dv_instance.raw_diet_vision_dictionary[0]['mask'].copy()\n",
    "\n",
    "for idx in range(1, len(dv_instance.raw_diet_vision_dictionary)):\n",
    "    curr_mask = dv_instance.raw_diet_vision_dictionary[idx]['mask'].copy()\n",
    "    combined_mask3 = np.logical_or(combined_mask3, curr_mask)\n",
    "\n",
    "data = Image.fromarray(combined_mask3)\n",
    "data.save('combined_mask3.png')"
   ]
  },
  {
   "cell_type": "code",
   "execution_count": 62,
   "metadata": {},
   "outputs": [
    {
     "name": "stdout",
     "output_type": "stream",
     "text": [
      "idx = 1\n",
      "idx = 2\n"
     ]
    }
   ],
   "source": [
    "for idx in range(1, len(dv_instance.raw_diet_vision_dictionary)):\n",
    "    nonzero_at = dv_instance.raw_diet_vision_dictionary[idx]['nonzero_at']\n",
    "\n",
    "    if (1355, 967) in nonzero_at:\n",
    "        print(f'idx = {idx}')"
   ]
  },
  {
   "cell_type": "code",
   "execution_count": 70,
   "metadata": {},
   "outputs": [],
   "source": [
    "import numpy as np\n",
    "\n",
    "raw_diet_vision_dictionary = [{\n",
    "    'mask': mask['segmentation'],\n",
    "    'area': mask['area'],\n",
    "    'class': None,\n",
    "    'attached_to': idx,\n",
    "    'nonzero_at': set(np.rec.fromarrays(np.nonzero(mask['segmentation'])).tolist())\n",
    "} for idx, mask in enumerate(sorted(dv_instance.sam_result, key=lambda x: x['area'], reverse=False))]\n",
    "\n",
    "height, width = raw_diet_vision_dictionary[0]['mask'].shape\n",
    "\n",
    "mask_dictionary = np.full((height, width), -1)\n",
    "\n",
    "for idx, curr_dvd in enumerate(raw_diet_vision_dictionary):\n",
    "    for pixel in curr_dvd['nonzero_at']:\n",
    "        mask_dictionary[pixel] = idx\n",
    "\n",
    "        # curr_dvd['attached_to'] = self.mask_dictionary[pixel]"
   ]
  },
  {
   "cell_type": "code",
   "execution_count": 72,
   "metadata": {},
   "outputs": [],
   "source": [
    "import itertools as it\n",
    "import numpy as np\n",
    "\n",
    "masks = []\n",
    "for idx in range(0, len(raw_diet_vision_dictionary)):\n",
    "    mask = np.full((height, width), False)\n",
    "\n",
    "    tups = np.where(mask_dictionary == idx)\n",
    "\n",
    "    if tups[0].size > 0 and tups[0].size == tups[1].size:\n",
    "        for row, col in it.zip_longest(tups[0], tups[1]):\n",
    "            mask[row, col] = True\n",
    "\n",
    "        masks.append(mask)"
   ]
  },
  {
   "cell_type": "code",
   "execution_count": 73,
   "metadata": {},
   "outputs": [],
   "source": [
    "from PIL import Image\n",
    "\n",
    "for idx in range(0, len(masks)):\n",
    "    data = Image.fromarray(masks[idx])\n",
    "    data.save(f'4_my_mask_{idx}.png')\n",
    "\n",
    "combined_mask = masks[0]\n",
    "\n",
    "for item in masks[1:]:\n",
    "    curr_mask = item.copy()\n",
    "    combined_mask = np.logical_or(combined_mask, curr_mask)\n",
    "\n",
    "data = Image.fromarray(combined_mask)\n",
    "data.save('4_combined_mask.png')"
   ]
  },
  {
   "cell_type": "code",
   "execution_count": 69,
   "metadata": {},
   "outputs": [],
   "source": [
    "data = Image.fromarray(np.logical_or(masks[58], masks[61]))\n",
    "data.save('test.png')"
   ]
  },
  {
   "cell_type": "code",
   "execution_count": 159,
   "metadata": {},
   "outputs": [],
   "source": [
    "import glob\n",
    "import os\n",
    "\n",
    "if not os.path.exists('../static/images/overlays/'):\n",
    "    os.mkdir('../static/images/overlays/')\n",
    "else :\n",
    "    for file in glob.glob('../static/images/overlays/**.txt'):\n",
    "        os.remove(file)"
   ]
  },
  {
   "cell_type": "code",
   "execution_count": 162,
   "metadata": {},
   "outputs": [
    {
     "data": {
      "text/plain": [
       "'../app/b/c'"
      ]
     },
     "execution_count": 162,
     "metadata": {},
     "output_type": "execute_result"
    }
   ],
   "source": [
    "aset = set([])\n",
    "aset.add((1, 1))\n",
    "aset.add((2, 2))\n",
    "tuple(zip(*aset))\n",
    "\n",
    "os.path.join('../app/', 'b', 'c')"
   ]
  }
 ],
 "metadata": {
  "kernelspec": {
   "display_name": "Python 3",
   "language": "python",
   "name": "python3"
  },
  "language_info": {
   "codemirror_mode": {
    "name": "ipython",
    "version": 3
   },
   "file_extension": ".py",
   "mimetype": "text/x-python",
   "name": "python",
   "nbconvert_exporter": "python",
   "pygments_lexer": "ipython3",
   "version": "3.9.16"
  },
  "orig_nbformat": 4
 },
 "nbformat": 4,
 "nbformat_minor": 2
}
